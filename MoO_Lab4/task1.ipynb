{
 "cells": [
  {
   "cell_type": "code",
   "execution_count": 7,
   "metadata": {},
   "outputs": [],
   "source": [
    "import numpy as np\n",
    "import pandas as pd"
   ]
  },
  {
   "cell_type": "code",
   "execution_count": 8,
   "metadata": {},
   "outputs": [],
   "source": [
    "def f(x: float) -> float:\n",
    "    return x**2 - 15 * x + 14 "
   ]
  },
  {
   "cell_type": "markdown",
   "metadata": {},
   "source": [
    "### 0. Расчёт точного значения минимума функции"
   ]
  },
  {
   "cell_type": "markdown",
   "metadata": {},
   "source": [
    "(см. файл Задание1_Листок.pdf)"
   ]
  },
  {
   "cell_type": "markdown",
   "metadata": {},
   "source": [
    "### 1. Пассивный метод поиска минимума\n",
    "#### Начальные данные"
   ]
  },
  {
   "cell_type": "code",
   "execution_count": 9,
   "metadata": {},
   "outputs": [],
   "source": [
    "a = 0\n",
    "b = 8\n",
    "n_1 = 16\n",
    "e = 0.1\n",
    "n_2 = 17"
   ]
  },
  {
   "cell_type": "markdown",
   "metadata": {},
   "source": [
    "a) Чётное N"
   ]
  },
  {
   "cell_type": "code",
   "execution_count": 10,
   "metadata": {},
   "outputs": [
    {
     "name": "stdout",
     "output_type": "stream",
     "text": [
      "x_i: [0.8388888888888888, 0.9388888888888888, 1.7277777777777776, 1.8277777777777777, 2.6166666666666667, 2.716666666666667, 3.5055555555555555, 3.6055555555555556, 4.394444444444445, 4.4944444444444445, 5.283333333333333, 5.383333333333333, 6.172222222222222, 6.272222222222221, 7.061111111111111, 7.1611111111111105]\n",
      "f_i: [  2.12040123   0.79817901  -8.93145062 -10.07589506 -18.40305556\n",
      " -19.36972222 -26.29441358 -27.08330247 -32.60552469 -33.2166358\n",
      " -37.33638889 -37.76972222 -40.48700617 -40.74256173 -42.05737654\n",
      " -42.13515432]\n",
      "\n",
      "Результат оптимизации\n",
      "\n",
      "x_min = x_16 = 7.1611111111111105\n",
      "f_min = f(x_16) = -42.13515432098765\n",
      "Отрезок локализации: (7.061111111111111, 8)\n"
     ]
    }
   ],
   "source": [
    "# определение точек x_i\n",
    "x_arr = []\n",
    "for j in range(1, n_1 // 2 + 1):\n",
    "    x_1 = a + (b - a) / (n_1 // 2 + 1) * j - e / 2\n",
    "    x_2 = x_1 + e\n",
    "    x_arr.append(x_1)\n",
    "    x_arr.append(x_2)\n",
    "print(f\"x_i: {x_arr}\")\n",
    "\n",
    "# вычисление f(x_i)\n",
    "f_arr = np.array([f(x) for x in x_arr])\n",
    "print(f\"f_i: {f_arr}\")\n",
    "\n",
    "print(\"\\nРезультат оптимизации\\n\")\n",
    "\n",
    "# получение минимального значения функции, соответсвующего этому значению икса и его индекса\n",
    "min_x_ind = f_arr.argmin()\n",
    "min_f = f_arr[min_x_ind]\n",
    "min_x = x_arr[min_x_ind]\n",
    "print(f\"x_min = x_{min_x_ind + 1} = {min_x}\")\n",
    "print(f\"f_min = f(x_{min_x_ind + 1}) = {min_f}\")\n",
    "\n",
    "# определение сегмента локализации\n",
    "localization_seg = ()\n",
    "if (min_x_ind == n_1 - 1):\n",
    "    localization_seg = (x_arr[min_x_ind - 1], b)\n",
    "elif (min_x_ind == 0):\n",
    "    localization_seg = (a, x_arr[min_x_ind + 1])\n",
    "else:\n",
    "    localization_seg = (x_arr[min_x_ind - 1], x_arr[min_x_ind + 1])\n",
    "print(f\"Отрезок локализации: {localization_seg}\")"
   ]
  },
  {
   "cell_type": "markdown",
   "metadata": {},
   "source": [
    "б) Чётное N"
   ]
  },
  {
   "cell_type": "code",
   "execution_count": 11,
   "metadata": {},
   "outputs": [
    {
     "name": "stdout",
     "output_type": "stream",
     "text": [
      "x_i: [0.4444444444444444, 0.8888888888888888, 1.3333333333333333, 1.7777777777777777, 2.2222222222222223, 2.6666666666666665, 3.1111111111111107, 3.5555555555555554, 4.0, 4.444444444444445, 4.888888888888888, 5.333333333333333, 5.777777777777778, 6.222222222222221, 6.666666666666666, 7.111111111111111, 7.555555555555555]\n",
      "f_i: [  7.5308642    1.45679012  -4.22222222  -9.50617284 -14.39506173\n",
      " -18.88888889 -22.98765432 -26.69135802 -30.         -32.91358025\n",
      " -35.43209877 -37.55555556 -39.28395062 -40.61728395 -41.55555556\n",
      " -42.09876543 -42.24691358]\n",
      "\n",
      "Результат оптимизации\n",
      "\n",
      "x_min = x_17 = 7.555555555555555\n",
      "f_min = f(x_17) = -42.24691358024691\n",
      "Отрезок локализации: (7.111111111111111, 8)\n"
     ]
    }
   ],
   "source": [
    "# определение точек x_i\n",
    "x_arr = []\n",
    "for i in range(1, n_2 + 1):\n",
    "    x = a + (b - a) / (n_2 + 1) * i    \n",
    "    x_arr.append(x)\n",
    "print(f\"x_i: {x_arr}\")\n",
    "\n",
    "# вычисление f(x_i)\n",
    "f_arr = np.array([f(x) for x in x_arr])\n",
    "print(f\"f_i: {f_arr}\")\n",
    "\n",
    "print(\"\\nРезультат оптимизации\\n\")\n",
    "\n",
    "# получение минимального значения функции, соответсвующего этому значению икса и его индекса\n",
    "min_x_ind = f_arr.argmin()\n",
    "min_f = f_arr[min_x_ind]\n",
    "min_x = x_arr[min_x_ind]\n",
    "print(f\"x_min = x_{min_x_ind + 1} = {min_x}\")\n",
    "print(f\"f_min = f(x_{min_x_ind + 1}) = {min_f}\")\n",
    "\n",
    "# определение сегмента локализации\n",
    "localization_seg = ()\n",
    "if (min_x_ind == n_2 - 1):\n",
    "    localization_seg = (x_arr[min_x_ind - 1], b)\n",
    "elif (min_x_ind == 0):\n",
    "    localization_seg = (a, x_arr[min_x_ind + 1])\n",
    "else:\n",
    "    localization_seg = (x_arr[min_x_ind - 1], x_arr[min_x_ind + 1])\n",
    "print(f\"Отрезок локализации: {localization_seg}\")"
   ]
  },
  {
   "cell_type": "markdown",
   "metadata": {},
   "source": [
    "### 2. Метод дихотомии (половинного деления)\n",
    "#### Начальные данные"
   ]
  },
  {
   "cell_type": "code",
   "execution_count": 12,
   "metadata": {},
   "outputs": [],
   "source": [
    "a = 0\n",
    "b = 8\n",
    "n = 16\n",
    "e = 0.1"
   ]
  },
  {
   "cell_type": "code",
   "execution_count": 13,
   "metadata": {},
   "outputs": [
    {
     "name": "stdout",
     "output_type": "stream",
     "text": [
      "x_i: [3.95, 4.05, 5.925, 6.0249999999999995, 6.9125000000000005, 7.0125, 7.406250000000001, 7.5062500000000005, 7.653125, 7.753125, 7.5296875000000005, 7.6296875, 7.467968750000001, 7.56796875, 7.437109375000001, 7.537109375000001]\n",
      "\n",
      "Отрезок локализации: (7.437109375000001, 7.56796875)\n",
      "\n",
      "x внутри отрезка локализации: [7.5062500000000005, 7.5296875000000005, 7.467968750000001, 7.56796875, 7.437109375000001, 7.537109375000001]\n",
      "\n",
      "f(x) для x внутри отрезка локализации: [-42.24996094 -42.24911865 -42.248974   -42.24538025 -42.24604477\n",
      " -42.24862289]\n",
      "\n",
      "Результат оптимизации\n",
      "\n",
      "x_min = x_1 = 7.5062500000000005\n",
      "f_min = f(x_1) = -42.249960937500006\n",
      "Отрезок локализации: (7.437109375000001, 7.56796875)\n",
      "\n"
     ]
    }
   ],
   "source": [
    "# расчёт x_i и отрезка локализации\n",
    "curr_a = a\n",
    "curr_b = b\n",
    "x_arr = []\n",
    "for j in range(n // 2):\n",
    "    x1 = (curr_a + curr_b) / 2 - e / 2\n",
    "    x2 = x1 + e\n",
    "    x_arr.append(x1)\n",
    "    x_arr.append(x2)\n",
    "    f1 = f(x1)\n",
    "    f2 = f(x2)\n",
    "    if f1 <= f2:\n",
    "        curr_b = x2\n",
    "    else:\n",
    "        curr_a = x1\n",
    "print(f\"x_i: {x_arr}\\n\")\n",
    "print(f\"Отрезок локализации: ({curr_a}, {curr_b})\\n\")\n",
    "\n",
    "# определение точек находящихся в отрезке локализации\n",
    "in_local_x_arr = [x for x in x_arr if curr_a <= x <= curr_b]\n",
    "print(f\"x внутри отрезка локализации: {in_local_x_arr}\\n\")\n",
    "\n",
    "# расчёт f для точек находящихся в отрезке локализации\n",
    "in_local_f_arr = np.array([f(x) for x in in_local_x_arr])\n",
    "print(f\"f(x) для x внутри отрезка локализации: {in_local_f_arr}\")\n",
    "\n",
    "print(\"\\nРезультат оптимизации\\n\")\n",
    "\n",
    "# получение минимального значения функции, соответсвующего этому значению икса и его индекса\n",
    "min_x_ind = in_local_f_arr.argmin()\n",
    "min_f = in_local_f_arr[min_x_ind]\n",
    "min_x = in_local_x_arr[min_x_ind]\n",
    "print(f\"x_min = x_{min_x_ind + 1} = {min_x}\")\n",
    "print(f\"f_min = f(x_{min_x_ind + 1}) = {min_f}\")\n",
    "print(f\"Отрезок локализации: ({curr_a}, {curr_b})\\n\")"
   ]
  },
  {
   "cell_type": "markdown",
   "metadata": {},
   "source": [
    "### 3. Метод Фибоначчи\n",
    "#### Начальные данные"
   ]
  },
  {
   "cell_type": "code",
   "execution_count": 31,
   "metadata": {},
   "outputs": [],
   "source": [
    "a = 0\n",
    "b = 8\n",
    "n = 16\n",
    "e = 0.003 # при e = 0.2 не выполняется ограничение и получается неверный отрезок локализации"
   ]
  },
  {
   "cell_type": "code",
   "execution_count": 30,
   "metadata": {},
   "outputs": [
    {
     "name": "stdout",
     "output_type": "stream",
     "text": [
      "Числа Фибоначчи: [1, 1, 2, 3, 5, 8, 13, 21, 34, 55, 89, 144, 233, 377, 610, 987, 1597, 2584]\n",
      "\n",
      "Результат оптимизации\n",
      "\n",
      "x_min = 7.501470882905448\n",
      "f_min = -42.249997836503475\n",
      "Отрезок локализации: (7.498470882905448, 7.504626174076393)\n"
     ]
    }
   ],
   "source": [
    "# получение первых n + 2 числа Фибоначчи\n",
    "fib_nums = [1, 1]\n",
    "for i in range(2, n + 2):\n",
    "    fib_nums.append(fib_nums[i-1] + fib_nums[i-2])\n",
    "print(f\"Числа Фибоначчи: {fib_nums}\")\n",
    "\n",
    "# проверяем что выбранное e соответствует ограничению\n",
    "if e >= ((b - a) / fib_nums[-1]):\n",
    "    print(\"\\ne не соответсвует ограничению!\".upper())\n",
    "    print(f\"{e} >= {(b - a) / fib_nums[-1]}\")\n",
    "\n",
    "# первая итерация, на которой вычисляется и x1, и x2\n",
    "j = 1\n",
    "curr_a = a\n",
    "curr_b = b\n",
    "x1 = curr_a + fib_nums[n-j-1] / fib_nums[n-j+1] * (curr_b - curr_a) - (-1) ** (n - j + 1) / fib_nums[n-j+1] * e\n",
    "x2 = curr_a + fib_nums[n-j] / fib_nums[n-j+1] * (curr_b - curr_a) + (-1) ** (n - j + 1) / fib_nums[n-j+1] * e\n",
    "is_left_smaller = f(x1) <= f(x2)\n",
    "if is_left_smaller:\n",
    "    curr_b = x2\n",
    "    x2 = x1\n",
    "else:\n",
    "    curr_a = x1\n",
    "    x1 = x2\n",
    "\n",
    "# алгоритм Фибоначчи\n",
    "while j != n - 1:\n",
    "    j += 1\n",
    "    if is_left_smaller:\n",
    "        x1 = curr_a + fib_nums[n-j-1] / fib_nums[n-j+1] * (curr_b - curr_a) - ((-1) ** (n - j + 1)) / fib_nums[n-j+1] * e\n",
    "    else:\n",
    "        x2 = curr_a + fib_nums[n-j] / fib_nums[n-j+1] * (curr_b - curr_a) + ((-1) ** (n - j + 1)) / fib_nums[n-j+1] * e\n",
    "    is_left_smaller = f(x1) <= f(x2)\n",
    "    if is_left_smaller:\n",
    "        curr_b = x2\n",
    "        x2 = x1\n",
    "    else:\n",
    "        curr_a = x1\n",
    "        x1 = x2\n",
    "\n",
    "print(\"\\nРезультат оптимизации\\n\")\n",
    "\n",
    "# получение минимального значения функции, соответсвующего этому значению икса и его индекса\n",
    "print(f\"x_min = {x2}\")\n",
    "print(f\"f_min = {f(x2)}\")\n",
    "print(f\"Отрезок локализации: ({curr_a}, {curr_b})\")"
   ]
  },
  {
   "cell_type": "markdown",
   "metadata": {},
   "source": [
    "### 4. Метод золотого сечения\n",
    "#### Начальные данные"
   ]
  },
  {
   "cell_type": "code",
   "execution_count": 32,
   "metadata": {},
   "outputs": [],
   "source": [
    "a = 0\n",
    "b = 8\n",
    "n = 16"
   ]
  },
  {
   "cell_type": "code",
   "execution_count": 33,
   "metadata": {},
   "outputs": [
    {
     "name": "stdout",
     "output_type": "stream",
     "text": [
      "Ф1 = 0.3819660112501051\n",
      "Ф2 = 0.6180339887498949\n",
      "\n",
      "Результат оптимизации\n",
      "\n",
      "x_min = 7.500860528920722\n",
      "f_min = -42.249999259489975\n",
      "Отрезок локализации: (7.498620260264141, 7.504485359751)\n"
     ]
    }
   ],
   "source": [
    "fib1 = (3 - 5 ** (1 / 2)) / 2\n",
    "fib2 = (5 ** (1 / 2) - 1) / 2\n",
    "print(f\"Ф1 = {fib1}\")\n",
    "print(f\"Ф2 = {fib2}\")\n",
    "\n",
    "# первая итерация, на которой вычисляется и x1, и x2\n",
    "j = 1\n",
    "curr_a = a\n",
    "curr_b = b\n",
    "x1 = curr_a + fib1 * (curr_b - curr_a)\n",
    "x2 = curr_a + fib2 * (curr_b - curr_a)\n",
    "is_left_smaller = f(x1) <= f(x2)\n",
    "if is_left_smaller:\n",
    "    curr_b = x2\n",
    "    x2 = x1\n",
    "else:\n",
    "    curr_a = x1\n",
    "    x1 = x2\n",
    "\n",
    "# алгоритм золотого сечения\n",
    "while j != n - 1:\n",
    "    j += 1\n",
    "    if is_left_smaller:\n",
    "        x1 = curr_a + fib1 * (curr_b - curr_a)\n",
    "    else:\n",
    "        x2 = curr_a + fib2 * (curr_b - curr_a)\n",
    "    is_left_smaller = f(x1) <= f(x2)\n",
    "    if is_left_smaller:\n",
    "        curr_b = x2\n",
    "        x2 = x1\n",
    "    else:\n",
    "        curr_a = x1\n",
    "        x1 = x2\n",
    "\n",
    "print(\"\\nРезультат оптимизации\\n\")\n",
    "\n",
    "# получение минимального значения функции, соответсвующего этому значению икса и его индекса\n",
    "print(f\"x_min = {x2}\")\n",
    "print(f\"f_min = {f(x2)}\")\n",
    "print(f\"Отрезок локализации: ({curr_a}, {curr_b})\")"
   ]
  }
 ],
 "metadata": {
  "kernelspec": {
   "display_name": "Python 3 (ipykernel)",
   "language": "python",
   "name": "python3"
  },
  "language_info": {
   "codemirror_mode": {
    "name": "ipython",
    "version": 3
   },
   "file_extension": ".py",
   "mimetype": "text/x-python",
   "name": "python",
   "nbconvert_exporter": "python",
   "pygments_lexer": "ipython3",
   "version": "3.9.12"
  },
  "vscode": {
   "interpreter": {
    "hash": "223c45b7112c59120ca1c24ff28bb4e2e42d1a2939bb8fe5b007ac6659f0fdad"
   }
  }
 },
 "nbformat": 4,
 "nbformat_minor": 2
}
